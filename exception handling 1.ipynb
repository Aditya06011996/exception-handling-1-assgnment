{
 "cells": [
  {
   "cell_type": "markdown",
   "id": "6a4feb2e-5718-44db-92f7-1eb2e656c9a6",
   "metadata": {},
   "source": [
    "Q 1 What is an exception in python? Write the difference between Exceptions and syntax errors."
   ]
  },
  {
   "cell_type": "markdown",
   "id": "924ecc72-9db1-4357-b9c8-5ac614ea5ae5",
   "metadata": {},
   "source": [
    "Ans 1 An Exception is an event , which occurs during the execition of a program that disrupt the normal flow of the program's instructions. In general , when a python script encounter a situation that it cannot cope with, it raises an exception . An exception is a python object that represents an error.\n",
    "\n",
    "A syntax error occurs when the structure of a program does not confirm to the rules of the programming language. Syntax errors are usually detected by the compiler or interpreter when the program is being compiled or executed , and they prevent the program from running. Syntax errors are  usually caused by the mistakes in the source code , such as typos , ommisions, or incorrect use of syntax.\n",
    "\n",
    "An Exception is an abnormal event that occurs during the execution of a program. Exceptions are usually caused by runtime errors, such as dividing by zero, trying to access an element in an array in with an out of bounds index, or trying to access a file that does not exist. Exceptions are not syntax errors, but they can still prevent the program from running if they are not handled properly."
   ]
  },
  {
   "cell_type": "markdown",
   "id": "d7af5bfa-482f-4fa0-96c3-d0f4bd095d26",
   "metadata": {},
   "source": [
    "Q 2 What happens when an exception is not handled? Explain with an example."
   ]
  },
  {
   "cell_type": "markdown",
   "id": "bad7f411-f803-4717-8e98-b8e8e3af9224",
   "metadata": {},
   "source": [
    "Ans 2 when an exception is not handled , it results in an abnormal termination of the program. This means that the program will stop executing and may display an error message or crash, depending on the programming language."
   ]
  },
  {
   "cell_type": "code",
   "execution_count": 1,
   "id": "12deb022-73a9-496a-b857-9504ebf71c68",
   "metadata": {},
   "outputs": [],
   "source": [
    "def divide(a, b):\n",
    "    result = a / b\n",
    "    return result"
   ]
  },
  {
   "cell_type": "code",
   "execution_count": 2,
   "id": "ffe9e378-5877-4d20-b49e-25d5237d9db6",
   "metadata": {},
   "outputs": [
    {
     "name": "stdout",
     "output_type": "stream",
     "text": [
      "Error: Division by zero\n"
     ]
    }
   ],
   "source": [
    "#Case 1: Exception is handled\n",
    "try:\n",
    "    result = divide(10,0)\n",
    "    print(\"Result:\" , result)\n",
    "except ZeroDivisionError:\n",
    "    print(\"Error: Division by zero\")"
   ]
  },
  {
   "cell_type": "code",
   "execution_count": 3,
   "id": "8322b8cf-1f96-4555-ba45-91880a1a7970",
   "metadata": {},
   "outputs": [
    {
     "ename": "ZeroDivisionError",
     "evalue": "division by zero",
     "output_type": "error",
     "traceback": [
      "\u001b[0;31m---------------------------------------------------------------------------\u001b[0m",
      "\u001b[0;31mZeroDivisionError\u001b[0m                         Traceback (most recent call last)",
      "Cell \u001b[0;32mIn[3], line 2\u001b[0m\n\u001b[1;32m      1\u001b[0m \u001b[38;5;66;03m#Case 2: Exception is not handled\u001b[39;00m\n\u001b[0;32m----> 2\u001b[0m result \u001b[38;5;241m=\u001b[39m \u001b[43mdivide\u001b[49m\u001b[43m(\u001b[49m\u001b[38;5;241;43m10\u001b[39;49m\u001b[43m,\u001b[49m\u001b[38;5;241;43m0\u001b[39;49m\u001b[43m)\u001b[49m\n\u001b[1;32m      3\u001b[0m \u001b[38;5;28mprint\u001b[39m(\u001b[38;5;124m\"\u001b[39m\u001b[38;5;124mResult:\u001b[39m\u001b[38;5;124m\"\u001b[39m, result)\n",
      "Cell \u001b[0;32mIn[1], line 2\u001b[0m, in \u001b[0;36mdivide\u001b[0;34m(a, b)\u001b[0m\n\u001b[1;32m      1\u001b[0m \u001b[38;5;28;01mdef\u001b[39;00m \u001b[38;5;21mdivide\u001b[39m(a, b):\n\u001b[0;32m----> 2\u001b[0m     result \u001b[38;5;241m=\u001b[39m \u001b[43ma\u001b[49m\u001b[43m \u001b[49m\u001b[38;5;241;43m/\u001b[39;49m\u001b[43m \u001b[49m\u001b[43mb\u001b[49m\n\u001b[1;32m      3\u001b[0m     \u001b[38;5;28;01mreturn\u001b[39;00m result\n",
      "\u001b[0;31mZeroDivisionError\u001b[0m: division by zero"
     ]
    }
   ],
   "source": [
    "#Case 2: Exception is not handled\n",
    "result = divide(10,0)\n",
    "print(\"Result:\", result)"
   ]
  },
  {
   "cell_type": "markdown",
   "id": "a2b54d02-51b7-4784-a116-04645cb647fd",
   "metadata": {},
   "source": [
    "Q 3 Which python statements are used to catch and handle exceptions? Explain with an example."
   ]
  },
  {
   "cell_type": "markdown",
   "id": "8a702ac3-baf2-44f0-a16b-6d63212fb454",
   "metadata": {},
   "source": [
    "Ans 3 In Python, the 'try-except' statements are used to catch and handle exceptions. The 'try' block contains the code that may raise an exception , and the 'except' block specifies how to handle the exception if it occurs."
   ]
  },
  {
   "cell_type": "code",
   "execution_count": 5,
   "id": "22dcc7c4-6cc1-4e91-bab0-29b278b873f8",
   "metadata": {},
   "outputs": [],
   "source": [
    "def divide(a,b):\n",
    "    try:\n",
    "        result = a / b\n",
    "        print(\"Result:\" , result)\n",
    "    except ZeroDivisionError:\n",
    "        print(\"Error: Division by zero\")"
   ]
  },
  {
   "cell_type": "code",
   "execution_count": 6,
   "id": "2280dd5c-2284-4d09-a88f-97c5c9f981c0",
   "metadata": {},
   "outputs": [
    {
     "name": "stdout",
     "output_type": "stream",
     "text": [
      "Error: Division by zero\n"
     ]
    }
   ],
   "source": [
    "# Example 1: Division by zero\n",
    "divide(10,0)"
   ]
  },
  {
   "cell_type": "code",
   "execution_count": 7,
   "id": "4a25bd9c-ddec-489d-98fc-9604745400eb",
   "metadata": {},
   "outputs": [
    {
     "name": "stdout",
     "output_type": "stream",
     "text": [
      "Result: 5.0\n"
     ]
    }
   ],
   "source": [
    "#Example 2: Valid division\n",
    "divide(10,2)"
   ]
  },
  {
   "cell_type": "markdown",
   "id": "0e3d8c2e-d174-4637-a163-4b4ca2221165",
   "metadata": {},
   "source": [
    "Q 4 Explain with an example:\n",
    "    a.try and else\n",
    "    b.finally\n",
    "    c.raise"
   ]
  },
  {
   "cell_type": "markdown",
   "id": "f6d772d0-baeb-4e00-829b-dfa56186cf02",
   "metadata": {},
   "source": [
    "Ans 4 In python, the 'try-except-else' statement is used to catch and handle exceptions, but it also allows you to specify code that should run only if no exceptions are raised within the 'try'block. The 'else' block is optional and executes after the 'try' block if no exceptions occur."
   ]
  },
  {
   "cell_type": "code",
   "execution_count": 8,
   "id": "0318b1ff-5fbf-4f55-b922-64a7019889e1",
   "metadata": {},
   "outputs": [],
   "source": [
    "def divide(a,b):\n",
    "    try:\n",
    "        result = a / b\n",
    "        print(\"Result:\" , result)\n",
    "    except ZeroDivisionError:\n",
    "        print(\"Error: Division by zero\")"
   ]
  },
  {
   "cell_type": "code",
   "execution_count": 9,
   "id": "a52d2478-0d9f-4da7-afbd-bd0823c121b2",
   "metadata": {},
   "outputs": [
    {
     "name": "stdout",
     "output_type": "stream",
     "text": [
      "Error: Division by zero\n"
     ]
    }
   ],
   "source": [
    "#example 1 : division by zero\n",
    "divide(10,0)"
   ]
  },
  {
   "cell_type": "code",
   "execution_count": 10,
   "id": "0a393f03-96c3-4528-a928-72be413e60ed",
   "metadata": {},
   "outputs": [
    {
     "name": "stdout",
     "output_type": "stream",
     "text": [
      "Result: 5.0\n"
     ]
    }
   ],
   "source": [
    "# example 2 : valid division\n",
    "divide(10,2)"
   ]
  },
  {
   "cell_type": "markdown",
   "id": "68f21d88-1747-4c91-8abe-0eaad7c5a377",
   "metadata": {},
   "source": [
    "(b) Finally - In python, 'try-except-finally' statement is used to catch and handle exceptions, but it also allows you to specify code that should run regardless of whether an exception occured or not. The 'finally' block is optional and executes after the 'try' and 'except' blocks, regardless of whether an exception was raised or not."
   ]
  },
  {
   "cell_type": "code",
   "execution_count": 11,
   "id": "083c0670-6146-4dc3-890a-5bfb2feba11a",
   "metadata": {},
   "outputs": [],
   "source": [
    "def divide(a,b):\n",
    "    try:\n",
    "        result = a / b\n",
    "        print(\"Result:\" , result)\n",
    "    except ZeroDivisionError:\n",
    "        print(\"Error: Division by zero\")\n",
    "    finally:\n",
    "        print(\"Finally block executed\")"
   ]
  },
  {
   "cell_type": "code",
   "execution_count": 12,
   "id": "c6e2f9eb-08b6-40d4-a941-4e7f39e30b47",
   "metadata": {},
   "outputs": [
    {
     "name": "stdout",
     "output_type": "stream",
     "text": [
      "Error: Division by zero\n",
      "Finally block executed\n"
     ]
    }
   ],
   "source": [
    "# example 1 : division by zero\n",
    "divide(10,0)"
   ]
  },
  {
   "cell_type": "code",
   "execution_count": 13,
   "id": "e481407c-813a-425c-9343-b5684bcf3792",
   "metadata": {},
   "outputs": [
    {
     "name": "stdout",
     "output_type": "stream",
     "text": [
      "Result: 5.0\n",
      "Finally block executed\n"
     ]
    }
   ],
   "source": [
    "# example2 : valid division\n",
    "divide(10,2)"
   ]
  },
  {
   "cell_type": "markdown",
   "id": "20aa9e37-74a9-4f22-bb50-1e04fa8225d5",
   "metadata": {},
   "source": [
    "(C) Raise - In python, the 'raise' statement is used to explicitly raise an exception. It allows you to generate and throw exceptions programmatically, providing control over when and what type of exceptions are raised. The 'raise' statement is often used in situations where you want to indicate an error or exceptional condition in your code."
   ]
  },
  {
   "cell_type": "code",
   "execution_count": 14,
   "id": "2d088aac-9e0f-4c06-99c7-3f7435273a90",
   "metadata": {},
   "outputs": [],
   "source": [
    "def divide(a,b):\n",
    "    if b == 0:\n",
    "        raise ZeroDivisionError(\"Error: Division by zero\")\n",
    "    else:\n",
    "        result = a / b\n",
    "        print(\"Result:\", result)"
   ]
  },
  {
   "cell_type": "code",
   "execution_count": 15,
   "id": "038bac07-86b0-449a-a9dd-75cf98b7a102",
   "metadata": {},
   "outputs": [
    {
     "name": "stdout",
     "output_type": "stream",
     "text": [
      "Error: Division by zero\n"
     ]
    }
   ],
   "source": [
    "# example 1 : Division by zero\n",
    "try:\n",
    "    divide(10,0)\n",
    "except ZeroDivisionError as e:\n",
    "    print(e)"
   ]
  },
  {
   "cell_type": "code",
   "execution_count": 16,
   "id": "63e406fe-8fef-4bed-959f-e6627303f2b8",
   "metadata": {},
   "outputs": [
    {
     "name": "stdout",
     "output_type": "stream",
     "text": [
      "Result: 5.0\n"
     ]
    }
   ],
   "source": [
    "# example 2 : valid division\n",
    "divide(10,2)"
   ]
  },
  {
   "cell_type": "code",
   "execution_count": null,
   "id": "0994e8a1-a5c9-4b0b-a90c-a74358399861",
   "metadata": {},
   "outputs": [],
   "source": []
  },
  {
   "cell_type": "markdown",
   "id": "4b425790-3af7-4388-8788-1e780f184e87",
   "metadata": {},
   "source": [
    "Q 5 What are custom exceptions in python? Why do we need Custom Exceptions? Explain with an example."
   ]
  },
  {
   "cell_type": "markdown",
   "id": "91d8f78e-66a3-4d0a-a2c0-c507caf0e3cb",
   "metadata": {},
   "source": [
    "Ans 5 Custom exceptions are user defined exceptions that allow you to create your own specific exception classes to handle exceptional situations in your code. While Python provides built in exceptions that cover a wide range of common errors, sometimes it is necessary to define custom exceptions to handle specific scenarios that are unique to your application or domain. "
   ]
  },
  {
   "cell_type": "markdown",
   "id": "b9d7b632-972a-4663-85f3-bd4b1b57b426",
   "metadata": {},
   "source": [
    "There are several reasons why we need custom exception:\n",
    "    1.Specific Error Handling \n",
    "    2.Code organization and readability:\n",
    "    3.Custom Error Reporting"
   ]
  },
  {
   "cell_type": "markdown",
   "id": "e5625424-70ef-4b4c-a59d-89c873c33082",
   "metadata": {},
   "source": [
    "Q 6 Create a custom exception class. Use this class to handle an exception."
   ]
  },
  {
   "cell_type": "code",
   "execution_count": 1,
   "id": "820b1f93-41ed-42f4-b4f7-cac900bc634e",
   "metadata": {},
   "outputs": [],
   "source": [
    "class CustomException(Exception):\n",
    "    def __init__(self, message):\n",
    "        self.message = message\n",
    "        super().__init__(self.message)"
   ]
  },
  {
   "cell_type": "code",
   "execution_count": 2,
   "id": "4dfab5f5-b1c7-4562-acb2-b4bf7f5787d9",
   "metadata": {},
   "outputs": [
    {
     "name": "stdout",
     "output_type": "stream",
     "text": [
      "Error: Cannot divide by zero!\n"
     ]
    }
   ],
   "source": [
    "def divide(a,b):\n",
    "    if b == 0:\n",
    "        raise CustomException(\"Cannot divide by zero!\")\n",
    "    return a / b\n",
    "\n",
    "try:\n",
    "    result = divide(10,0)\n",
    "    print(\"Result:\" , result)\n",
    "except CustomException as e:\n",
    "    print(\"Error:\", e.message)"
   ]
  },
  {
   "cell_type": "code",
   "execution_count": null,
   "id": "793dbd26-5d22-4250-834a-1030dcb1e606",
   "metadata": {},
   "outputs": [],
   "source": []
  }
 ],
 "metadata": {
  "kernelspec": {
   "display_name": "Python 3 (ipykernel)",
   "language": "python",
   "name": "python3"
  },
  "language_info": {
   "codemirror_mode": {
    "name": "ipython",
    "version": 3
   },
   "file_extension": ".py",
   "mimetype": "text/x-python",
   "name": "python",
   "nbconvert_exporter": "python",
   "pygments_lexer": "ipython3",
   "version": "3.10.8"
  }
 },
 "nbformat": 4,
 "nbformat_minor": 5
}
